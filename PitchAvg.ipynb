{
 "cells": [
  {
   "cell_type": "code",
   "execution_count": 37,
   "metadata": {},
   "outputs": [
    {
     "name": "stdout",
     "output_type": "stream",
     "text": [
      "Averages calculated and saved to /Users/brenthokeness/Desktop/FB_AVG/PZ_FB_AVG.xlsx\n"
     ]
    },
    {
     "name": "stderr",
     "output_type": "stream",
     "text": [
      "/var/folders/nf/5f05bjd51wxgmrxzcl0lxwl80000gn/T/ipykernel_43782/903944759.py:21: FutureWarning: The pandas.np module is deprecated and will be removed from pandas in a future version. Import numpy directly instead.\n",
      "  numeric_columns = sheet_data.select_dtypes(include=[pd.np.number])\n"
     ]
    }
   ],
   "source": [
    "import os\n",
    "import pandas as pd\n",
    "\n",
    "# Input Excel file\n",
    "input_file = '/Users/brenthokeness/Desktop/FB_Analysis/PZ_FB_Analysis.xlsx'\n",
    "\n",
    "# Output Excel file to store the averages\n",
    "output_file = '/Users/brenthokeness/Desktop/FB_AVG/PZ_FB_AVG.xlsx'\n",
    "\n",
    "# Read all sheets from the input Excel file into a dictionary\n",
    "sheets = pd.read_excel(input_file, sheet_name=None)\n",
    "\n",
    "# Initialize a DataFrame to store the averages\n",
    "averages_df = pd.DataFrame()\n",
    "\n",
    "# Initialize a flag to add headers only once\n",
    "headers_added = False\n",
    "\n",
    "# Iterate through the sheets and calculate averages while excluding non-numeric columns\n",
    "for sheet_name, sheet_data in sheets.items():\n",
    "    numeric_columns = sheet_data.select_dtypes(include=[pd.np.number])\n",
    "    if headers_added:\n",
    "        averages_df += numeric_columns\n",
    "    else:\n",
    "        averages_df = numeric_columns.copy()\n",
    "        headers_added = True\n",
    "\n",
    "# Calculate the average by dividing by the number of sheets\n",
    "averages_df = averages_df / len(sheets)\n",
    "\n",
    "# Save the averages DataFrame to the output Excel file\n",
    "averages_df.to_excel(output_file, index=False)\n",
    "\n",
    "print(\"Averages calculated and saved to\", output_file)\n"
   ]
  }
 ],
 "metadata": {
  "kernelspec": {
   "display_name": "Python 3",
   "language": "python",
   "name": "python3"
  },
  "language_info": {
   "codemirror_mode": {
    "name": "ipython",
    "version": 3
   },
   "file_extension": ".py",
   "mimetype": "text/x-python",
   "name": "python",
   "nbconvert_exporter": "python",
   "pygments_lexer": "ipython3",
   "version": "3.11.1 (v3.11.1:a7a450f84a, Dec  6 2022, 15:24:06) [Clang 13.0.0 (clang-1300.0.29.30)]"
  },
  "orig_nbformat": 4,
  "vscode": {
   "interpreter": {
    "hash": "aee8b7b246df8f9039afb4144a1f6fd8d2ca17a180786b69acc140d282b71a49"
   }
  }
 },
 "nbformat": 4,
 "nbformat_minor": 2
}
